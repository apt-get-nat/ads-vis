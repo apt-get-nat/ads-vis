{
 "cells": [
  {
   "cell_type": "code",
   "execution_count": null,
   "id": "18010904-926b-4e8e-8beb-7b11122bbf06",
   "metadata": {},
   "outputs": [],
   "source": [
    "import matplotlib as mpl\n",
    "import matplotlib.pyplot as plt\n",
    "import networkx as nx\n",
    "from bokeh.plotting import figure, show, from_networkx\n",
    "from bokeh.transform import linear_cmap\n",
    "from tqdm.notebook import tqdm\n",
    "import numpy as np"
   ]
  },
  {
   "cell_type": "code",
   "execution_count": null,
   "id": "0b015e3d-eea4-46e9-a431-14a18b0bba71",
   "metadata": {},
   "outputs": [],
   "source": [
    "# Get an API key from https://ui.adsabs.harvard.edu/user/settings/token\n",
    "import ads\n",
    "ads.config.token = '~/.ads/dev_key'\n",
    "r = ads.RateLimits('SearchQuery')"
   ]
  },
  {
   "cell_type": "code",
   "execution_count": null,
   "id": "cd1f927a-b44f-48a6-ac7b-a4aa6596015a",
   "metadata": {},
   "outputs": [],
   "source": [
    "# Seed our collection with the most-cited papers which cite SDO, published in the last five years\n",
    "result = list(ads.SearchQuery(q=\"citations(bibcode:2012SoPh..275....3P) year:2020-2025\",\n",
    "                              sort='citation_count',max_pages=10,\n",
    "                              fl=['id', 'bibcode', 'doi','title', 'citation_count','reference','citation','first_author','author']))\n",
    "reference = {p.bibcode:p.reference for p in result}\n",
    "citations = {p.bibcode:p.citation for p in result}\n",
    "titles = {p.bibcode:p.title for p in result}\n",
    "authors= {p.bibcode:p.author for p in result}\n",
    "\n",
    "for p in reference:\n",
    "    if reference[p] is None:\n",
    "        reference[p] = set()\n",
    "    else:\n",
    "        reference[p] = set(reference[p])\n",
    "for p in citations:\n",
    "    if citations[p] is None:\n",
    "        citations[p] = set()\n",
    "    else:\n",
    "        citations[p] = set(citations[p])"
   ]
  },
  {
   "cell_type": "code",
   "execution_count": null,
   "id": "23284aa0-05d6-4085-bcb9-de079cb1f728",
   "metadata": {},
   "outputs": [],
   "source": [
    "# Iterate through, pulling the next set of articles which are most-cited by our extant population\n",
    "for depth in tqdm(range(100)):\n",
    "    newQ = []\n",
    "    for p in citations:\n",
    "        newQ = newQ + list(citations[p]-set(citations.keys()))\n",
    "    newQ = sorted(newQ,key=newQ.count,reverse=True)\n",
    "    seen = set()\n",
    "    newQ = [q for q in newQ if q not in seen and (seen.add(q) or True)]\n",
    "    # ADS gets mad sometimes if you try to pull too many at once. 50 and 30 are hardcoded here, and it still fails sometimes.\n",
    "    try:\n",
    "        result = list(ads.SearchQuery(q=' or '.join(newQ[0:min(50,len(newQ))]),sort='citation_count',fl=['id', 'bibcode', 'doi','title', 'citation_count','reference','citation', 'author']))\n",
    "    except:\n",
    "        result = list(ads.SearchQuery(q=' or '.join(newQ[0:min(30,len(newQ))]),sort='citation_count',fl=['id', 'bibcode', 'doi','title', 'citation_count','reference','citation', 'author']))\n",
    "    \n",
    "    for p in result:\n",
    "        if p.reference is None:\n",
    "            reference[p.bibcode] = set([])\n",
    "        else:\n",
    "            reference[p.bibcode] = set(p.reference)\n",
    "        if p.citation is None:\n",
    "            citations[p.bibcode] = set([])\n",
    "        else:\n",
    "            citations[p.bibcode] = set(p.citation)\n",
    "        titles[p.bibcode] = p.title\n",
    "        authors[p.bibcode] = p.author"
   ]
  },
  {
   "cell_type": "code",
   "execution_count": null,
   "id": "a521756a-e8f8-4167-8085-d5bef927e984",
   "metadata": {},
   "outputs": [],
   "source": [
    "# For plotting, we create a subgraph without orphans and which is closed (ie, no connections to nodes we don't have)\n",
    "orphanless = {}\n",
    "for j in citations:\n",
    "    for k in citations[j]:\n",
    "        if (k in citations.keys()) and not (k in orphanless.keys()):\n",
    "            orphanless[k] = citations[k].intersection(set(citations.keys()))\n",
    "print(len(orphanless))\n",
    "print(len(citations))"
   ]
  },
  {
   "cell_type": "code",
   "execution_count": null,
   "id": "96a989d3-79a5-4753-bcd4-9fe74566d43e",
   "metadata": {},
   "outputs": [],
   "source": [
    "# visualization -- very preliminary\n",
    "\n",
    "scale = 0.1\n",
    "sizes = [5+scale*float(len(orphanless[p])) for p in orphanless]\n",
    "colors = [float(len(reference[p])) for p in orphanless]\n",
    "data = nx.Graph(orphanless)\n",
    "pos = nx.kamada_kawai_layout(data)\n",
    "nx.set_node_attributes(data,titles,'titles')\n",
    "plot = figure(tools=\"hover\", tooltips=\"@index: @titles\")\n",
    "\n",
    "graph = from_networkx(data, pos, node_size=sizes)\n",
    "graph.node_renderer.data_source.data['sizes'] = sizes\n",
    "graph.node_renderer.data_source.data['colors'] = colors\n",
    "graph.node_renderer.glyph.update(size='sizes', fill_color=linear_cmap('colors', 'GnBu8', min(colors), max(colors)))\n",
    "graph.edge_renderer.glyph.update(line_alpha=0.1,line_width=1)\n",
    "plot.renderers.append(graph)\n",
    "\n",
    "show(plot)"
   ]
  },
  {
   "cell_type": "code",
   "execution_count": null,
   "id": "5b14379c-6dc0-4ea8-9b48-db23df5b7669",
   "metadata": {},
   "outputs": [],
   "source": [
    "r.limits"
   ]
  },
  {
   "cell_type": "code",
   "execution_count": null,
   "id": "03317df8-2f18-4430-b072-9bd05f9dab5e",
   "metadata": {},
   "outputs": [],
   "source": []
  }
 ],
 "metadata": {
  "kernelspec": {
   "display_name": "Python [conda env:ads]",
   "language": "python",
   "name": "conda-env-ads-py"
  },
  "language_info": {
   "codemirror_mode": {
    "name": "ipython",
    "version": 3
   },
   "file_extension": ".py",
   "mimetype": "text/x-python",
   "name": "python",
   "nbconvert_exporter": "python",
   "pygments_lexer": "ipython3",
   "version": "3.13.2"
  }
 },
 "nbformat": 4,
 "nbformat_minor": 5
}
